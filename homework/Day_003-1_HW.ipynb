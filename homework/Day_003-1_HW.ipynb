{
 "cells": [
  {
   "cell_type": "markdown",
   "metadata": {},
   "source": [
    "## 練習時間\n",
    "在小量的資料上，我們用眼睛就可以看得出來程式碼是否有跑出我們理想中的結果\n",
    "\n",
    "請嘗試想像一個你需要的資料結構 (裡面的值可以是隨機的)，然後用上述的方法把它變成 pandas DataFrame\n",
    "\n",
    "#### Ex: 想像一個 dataframe 有兩個欄位，一個是國家，一個是人口，求人口數最多的國家\n",
    "\n",
    "### Hints: [隨機產生數值](https://blog.csdn.net/christianashannon/article/details/78867204)"
   ]
  },
  {
   "cell_type": "code",
   "execution_count": 47,
   "metadata": {},
   "outputs": [],
   "source": [
    "import pandas as pd\n",
    "import numpy as np\n",
    "import uuid\n",
    "import binascii"
   ]
  },
  {
   "cell_type": "code",
   "execution_count": 48,
   "metadata": {
    "scrolled": true
   },
   "outputs": [
    {
     "name": "stdout",
     "output_type": "stream",
     "text": [
      "最大人口國家為：7c9c4ebf，人口數：2136311868\n"
     ]
    }
   ],
   "source": [
    "countrys = []\n",
    "populations = []\n",
    "\n",
    "#for i in range(np.random.randint(np.iinfo(np.int32).max)):\n",
    "for i in range(100):\n",
    "    countrys.append(format(binascii.crc32(uuid.uuid4().bytes), 'x'))\n",
    "    populations.append(np.random.randint(np.iinfo(np.int32).max))\n",
    "\n",
    "data = pd.DataFrame({'國家': countrys, '人口': populations})\n",
    "result = data.sort_values('人口', ascending=False)\n",
    "print('最大人口國家為：%s，人口數：%d' % (result.iloc[0]['國家'], result.iloc[0]['人口']))"
   ]
  }
 ],
 "metadata": {
  "kernelspec": {
   "display_name": "Python 3",
   "language": "python",
   "name": "python3"
  },
  "language_info": {
   "codemirror_mode": {
    "name": "ipython",
    "version": 3
   },
   "file_extension": ".py",
   "mimetype": "text/x-python",
   "name": "python",
   "nbconvert_exporter": "python",
   "pygments_lexer": "ipython3",
   "version": "3.7.1"
  }
 },
 "nbformat": 4,
 "nbformat_minor": 2
}
